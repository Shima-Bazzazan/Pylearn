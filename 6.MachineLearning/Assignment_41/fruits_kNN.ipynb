{
 "cells": [
  {
   "cell_type": "code",
   "execution_count": 1,
   "metadata": {},
   "outputs": [],
   "source": [
    "import numpy as np\n",
    "import matplotlib.pyplot as plt"
   ]
  },
  {
   "cell_type": "code",
   "execution_count": 2,
   "metadata": {},
   "outputs": [],
   "source": [
    "n = 100\n",
    "apple_width = np.random.normal(7, 1, n)\n",
    "apple_length = np.random.normal(7, 1, n)\n",
    "banana_width = np.random.normal(5, 1, n)\n",
    "banana_length = np.random.normal(17, 2, n)\n",
    "watermelon_width = np.random.normal(25, 5, n)\n",
    "watermelon_length = np.random.normal(40, 5, n)"
   ]
  },
  {
   "cell_type": "code",
   "execution_count": 3,
   "metadata": {},
   "outputs": [
    {
     "data": {
      "image/png": "[encoded data removed]",
      "text/plain": [
       "<Figure size 640x480 with 1 Axes>"
      ]
     },
     "metadata": {},
     "output_type": "display_data"
    }
   ],
   "source": [
    "plt.scatter(apple_length, apple_width, c='red', marker='.')\n",
    "plt.scatter(banana_length, banana_width, c='yellow', marker='.')\n",
    "plt.scatter(watermelon_length, watermelon_width, c='green', marker='.')\n",
    "plt.title('apple, banana and watermelon')\n",
    "plt.xlabel('length')\n",
    "plt.ylabel('width')\n",
    "plt.show()"
   ]
  },
  {
   "cell_type": "code",
   "execution_count": 4,
   "metadata": {},
   "outputs": [
    {
     "data": {
      "text/plain": [
       "array([[ 6.85500332,  6.57291996],\n",
       "       [ 5.84173169,  6.08265   ],\n",
       "       [ 7.11845096,  6.61368744],\n",
       "       [ 6.75757043,  7.48974764],\n",
       "       [ 6.32512153,  6.42761518],\n",
       "       [ 7.26398482,  6.90197495],\n",
       "       [ 7.96788885,  7.84129209],\n",
       "       [ 8.26908181,  6.32755487],\n",
       "       [ 7.60943696,  6.38798247],\n",
       "       [ 8.28104954,  6.43663597],\n",
       "       [ 7.46523128,  5.76254842],\n",
       "       [ 6.0760164 ,  7.8200319 ],\n",
       "       [ 6.98212605,  7.98940968],\n",
       "       [ 6.77660062,  6.50470481],\n",
       "       [ 6.63780879,  6.47230514],\n",
       "       [ 6.79922864,  7.68894037],\n",
       "       [ 7.83513343,  6.84704606],\n",
       "       [ 5.95452216,  8.10706015],\n",
       "       [ 6.84482477,  9.06451669],\n",
       "       [ 8.46749906,  7.81759488],\n",
       "       [ 5.03252151,  7.35503218],\n",
       "       [ 6.65859011,  6.95176842],\n",
       "       [ 6.50645814,  5.87695574],\n",
       "       [ 8.9291241 ,  7.35578569],\n",
       "       [ 7.05414474,  9.44352604],\n",
       "       [ 7.8253478 ,  7.73051619],\n",
       "       [ 8.05365486,  7.9102406 ],\n",
       "       [ 6.27936155,  7.38301379],\n",
       "       [ 7.90552946,  6.90561008],\n",
       "       [ 5.74433801,  6.71215639],\n",
       "       [ 7.98411049,  7.14037097],\n",
       "       [ 6.33604834,  8.55567822],\n",
       "       [ 7.48510807,  7.0697409 ],\n",
       "       [ 7.72234611,  7.93939373],\n",
       "       [ 7.2751597 ,  4.39326576],\n",
       "       [ 8.94240049,  5.5016463 ],\n",
       "       [ 8.09064339,  6.33239218],\n",
       "       [ 6.44469669,  7.34063614],\n",
       "       [ 6.10957501,  7.66634873],\n",
       "       [ 6.8247558 ,  6.57610829],\n",
       "       [ 9.55180864,  7.05481902],\n",
       "       [ 6.88033111,  7.79989012],\n",
       "       [ 7.44107528,  6.27513655],\n",
       "       [ 5.88871358,  7.44755443],\n",
       "       [ 6.65106399,  6.90046196],\n",
       "       [ 6.72529403,  7.31693933],\n",
       "       [ 8.47057409,  7.96194729],\n",
       "       [ 7.03977243,  8.9116456 ],\n",
       "       [ 6.40928213,  7.54075808],\n",
       "       [ 7.44517478,  7.00096771],\n",
       "       [ 7.50102391,  6.00436209],\n",
       "       [ 5.71714089,  6.48247514],\n",
       "       [ 7.68116422,  6.34129042],\n",
       "       [ 7.5545639 ,  7.41762438],\n",
       "       [ 5.68791993,  7.88578135],\n",
       "       [ 5.18405305,  7.76664509],\n",
       "       [ 6.39782051,  5.90141975],\n",
       "       [ 6.0070799 ,  7.88301543],\n",
       "       [ 7.51086054,  6.21864714],\n",
       "       [ 6.85435599,  6.87524399],\n",
       "       [ 8.60903217,  7.10204132],\n",
       "       [ 6.46088432,  6.925725  ],\n",
       "       [ 6.6785837 ,  8.26495311],\n",
       "       [ 6.52976792,  6.83547538],\n",
       "       [ 5.62101471,  8.65195516],\n",
       "       [ 6.41989791,  6.63879767],\n",
       "       [ 6.47080609,  8.02903217],\n",
       "       [ 6.57576965,  7.76170096],\n",
       "       [ 4.89056136,  6.74956279],\n",
       "       [ 6.27228266,  5.86106243],\n",
       "       [ 8.61590362,  7.946479  ],\n",
       "       [ 8.25030352,  8.33608151],\n",
       "       [ 9.39806739,  6.88929071],\n",
       "       [ 7.19673268,  7.31895867],\n",
       "       [ 6.66596007,  7.00981963],\n",
       "       [ 5.88893087,  5.96709249],\n",
       "       [ 6.15624699,  6.09777063],\n",
       "       [ 7.58165485,  4.99272268],\n",
       "       [ 8.32873336,  5.3153219 ],\n",
       "       [ 5.17105385,  8.98010674],\n",
       "       [ 6.04363071,  5.97273512],\n",
       "       [ 7.7244329 ,  5.93509285],\n",
       "       [ 5.55756449,  6.35521183],\n",
       "       [ 4.96048549,  7.21903724],\n",
       "       [ 8.81331204,  6.33280986],\n",
       "       [ 6.35232511,  7.47860014],\n",
       "       [ 7.22113491,  4.90223403],\n",
       "       [ 6.96468133,  6.90071636],\n",
       "       [ 7.63635831,  8.94100166],\n",
       "       [ 7.66568432,  8.60948453],\n",
       "       [ 6.27339217,  6.44206924],\n",
       "       [ 4.60632906,  9.27003044],\n",
       "       [ 6.22574413,  5.58269928],\n",
       "       [ 7.98790758,  6.49821257],\n",
       "       [ 6.49259639,  5.99733868],\n",
       "       [ 6.48439092,  7.25650405],\n",
       "       [ 7.0468793 ,  6.4173266 ],\n",
       "       [ 7.52221721,  7.2549415 ],\n",
       "       [ 6.14086585,  6.97820416],\n",
       "       [ 6.71775905,  7.79631666],\n",
       "       [18.48797793,  4.68550816],\n",
       "       [16.35028252,  4.8571452 ],\n",
       "       [11.05843684,  5.15541545],\n",
       "       [16.7009647 ,  4.973748  ],\n",
       "       [18.25991343,  4.63020296],\n",
       "       [17.78790736,  4.29003465],\n",
       "       [15.24920531,  6.03498467],\n",
       "       [21.2141436 ,  4.91173321],\n",
       "       [15.06827951,  5.02550998],\n",
       "       [18.09646507,  6.03894277],\n",
       "       [18.43782145,  4.40098907],\n",
       "       [17.63231122,  5.20186484],\n",
       "       [14.47172838,  4.15335819],\n",
       "       [14.10580977,  5.85145362],\n",
       "       [16.99863433,  5.15168082],\n",
       "       [13.5635452 ,  5.13917485],\n",
       "       [17.13411135,  4.21288872],\n",
       "       [16.73127919,  3.99996045],\n",
       "       [17.45424779,  4.99826206],\n",
       "       [16.25077131,  4.23562109],\n",
       "       [19.91324208,  4.87638115],\n",
       "       [14.14845812,  4.61980082],\n",
       "       [15.46574477,  4.24826883],\n",
       "       [18.57205913,  4.11147712],\n",
       "       [19.22098488,  6.11760228],\n",
       "       [19.29731842,  5.53507012],\n",
       "       [15.65156871,  5.98208532],\n",
       "       [16.27105394,  2.9685504 ],\n",
       "       [15.4995494 ,  4.29119427],\n",
       "       [19.93605912,  4.57411481],\n",
       "       [17.82733051,  3.88700373],\n",
       "       [17.38822207,  5.80451035],\n",
       "       [15.88781398,  6.39929457],\n",
       "       [17.64643098,  5.45023527],\n",
       "       [18.29921223,  7.52885666],\n",
       "       [19.73224329,  5.35662742],\n",
       "       [15.49379795,  3.69258975],\n",
       "       [15.37181749,  1.78575402],\n",
       "       [20.28298941,  4.98647298],\n",
       "       [17.26238421,  6.97994099],\n",
       "       [15.79845588,  4.32964089],\n",
       "       [19.11825461,  5.13888129],\n",
       "       [17.04616246,  6.21380774],\n",
       "       [17.80507523,  5.29078093],\n",
       "       [16.53517653,  6.25745642],\n",
       "       [18.70678017,  4.94680506],\n",
       "       [21.12130349,  4.19916626],\n",
       "       [20.10084353,  5.52271392],\n",
       "       [17.54750263,  5.99344158],\n",
       "       [18.69025519,  6.37499902],\n",
       "       [16.64889822,  5.54762176],\n",
       "       [18.54769388,  4.63376209],\n",
       "       [16.61869545,  5.45823321],\n",
       "       [15.53475388,  5.83459636],\n",
       "       [12.78678931,  4.73868877],\n",
       "       [15.78239699,  5.39585157],\n",
       "       [22.06233094,  6.91849385],\n",
       "       [13.31963356,  4.95456452],\n",
       "       [17.61678213,  6.21690544],\n",
       "       [15.04448441,  6.17429614],\n",
       "       [19.51685242,  5.40341968],\n",
       "       [12.62789592,  2.79830909],\n",
       "       [16.58811854,  5.40230923],\n",
       "       [17.14585819,  4.76941036],\n",
       "       [15.73062121,  6.65959792],\n",
       "       [16.18226543,  3.26039229],\n",
       "       [15.88100749,  3.88603943],\n",
       "       [18.45112365,  7.29189514],\n",
       "       [16.61134871,  4.91570312],\n",
       "       [17.33628763,  5.52490015],\n",
       "       [18.27863241,  7.36661221],\n",
       "       [14.01144684,  4.81957822],\n",
       "       [16.34896366,  4.5774499 ],\n",
       "       [12.85648606,  5.89281789],\n",
       "       [14.15240679,  4.6013152 ],\n",
       "       [14.30203489,  4.58299617],\n",
       "       [18.02231995,  3.97235601],\n",
       "       [16.56810691,  4.96818968],\n",
       "       [16.54146484,  5.04732053],\n",
       "       [16.75554738,  5.29472452],\n",
       "       [13.97235236,  4.41570596],\n",
       "       [17.09008487,  4.30626642],\n",
       "       [17.01912196,  4.10336855],\n",
       "       [19.30181026,  3.30731025],\n",
       "       [17.24234256,  4.31116303],\n",
       "       [16.40217622,  6.20932267],\n",
       "       [12.80697523,  3.36606651],\n",
       "       [18.2203409 ,  3.81122303],\n",
       "       [18.48511183,  2.82028721],\n",
       "       [15.37518802,  5.0220021 ],\n",
       "       [15.00212177,  5.40581573],\n",
       "       [13.19354771,  5.80508581],\n",
       "       [18.15754145,  4.44142548],\n",
       "       [17.41748297,  5.05357687],\n",
       "       [13.03030058,  6.41852092],\n",
       "       [18.23644682,  5.04071228],\n",
       "       [18.87265069,  3.97574124],\n",
       "       [16.83887806,  4.8501394 ],\n",
       "       [18.0980488 ,  5.19419116],\n",
       "       [16.58755253,  5.16074647],\n",
       "       [37.80442875, 23.39037137],\n",
       "       [35.31506767, 16.95188163],\n",
       "       [34.30377539, 19.95321677],\n",
       "       [39.88054035, 28.97113801],\n",
       "       [40.94196746, 28.9598305 ],\n",
       "       [37.67265306, 28.83845033],\n",
       "       [36.15213102, 27.67603631],\n",
       "       [38.67097826, 22.35123053],\n",
       "       [41.49676932, 25.69082361],\n",
       "       [49.04471966, 21.11333756],\n",
       "       [40.49911659, 23.86006756],\n",
       "       [38.54326891, 20.75475671],\n",
       "       [44.48890848, 24.65904566],\n",
       "       [29.36647736, 22.64875861],\n",
       "       [37.6175213 , 15.79202527],\n",
       "       [31.48310544, 20.26034412],\n",
       "       [47.51507364, 16.26335864],\n",
       "       [49.49214616, 16.61851114],\n",
       "       [37.68038036, 24.61388217],\n",
       "       [36.3726499 , 15.83838984],\n",
       "       [38.41746499, 20.01099299],\n",
       "       [44.46491118, 18.80820293],\n",
       "       [33.22297211, 30.03800365],\n",
       "       [38.00632883, 21.27953012],\n",
       "       [38.04810226, 21.83317371],\n",
       "       [39.69195245, 30.44475175],\n",
       "       [43.96325426, 27.52039672],\n",
       "       [44.31177865, 14.96954251],\n",
       "       [34.98835364, 15.5624523 ],\n",
       "       [38.86444973, 20.58938375],\n",
       "       [32.01890774, 28.70431137],\n",
       "       [40.10939513, 26.49650156],\n",
       "       [35.90678304, 32.30172273],\n",
       "       [37.62209845, 28.65025648],\n",
       "       [38.04482155, 27.54115563],\n",
       "       [42.01956243, 22.67393683],\n",
       "       [37.32443788, 27.78807618],\n",
       "       [36.91827777, 23.83187232],\n",
       "       [44.72891068, 23.80461507],\n",
       "       [39.8615384 , 19.47543501],\n",
       "       [43.79229232, 21.62614086],\n",
       "       [33.47643323, 23.65203908],\n",
       "       [44.61571871, 26.8738543 ],\n",
       "       [42.17426096, 19.40247966],\n",
       "       [37.24552983, 25.75685067],\n",
       "       [40.26129829, 18.71418255],\n",
       "       [41.05246497, 32.83473944],\n",
       "       [41.976782  , 23.60937766],\n",
       "       [41.90483841, 29.60624082],\n",
       "       [41.27425214, 31.96294362],\n",
       "       [44.93614678, 30.60689543],\n",
       "       [42.74406333, 21.46506859],\n",
       "       [39.01083421, 17.65090333],\n",
       "       [42.33834991, 26.48452689],\n",
       "       [36.0210167 , 17.44952477],\n",
       "       [45.97420172, 28.96241115],\n",
       "       [33.01191053, 22.09602568],\n",
       "       [43.65703689, 15.47482221],\n",
       "       [46.02697749, 26.26696726],\n",
       "       [31.54459502, 26.42139758],\n",
       "       [37.32770333, 18.67944413],\n",
       "       [52.72184547, 18.58094777],\n",
       "       [34.93974654, 25.08546422],\n",
       "       [40.34014205, 15.29862154],\n",
       "       [35.11238516, 24.41435249],\n",
       "       [36.09303886, 18.24874876],\n",
       "       [46.06043431, 27.6566191 ],\n",
       "       [36.81291891, 29.07494152],\n",
       "       [45.28908388, 27.45167062],\n",
       "       [45.48595851, 22.83274532],\n",
       "       [46.02263657, 13.608679  ],\n",
       "       [36.00436955, 18.8008034 ],\n",
       "       [42.36753723, 26.8017921 ],\n",
       "       [35.26519828, 29.87980293],\n",
       "       [42.43967041, 18.14170685],\n",
       "       [36.53948478, 26.10940043],\n",
       "       [40.89960024, 24.30874491],\n",
       "       [46.78780838, 18.64381417],\n",
       "       [42.09158507, 18.05687432],\n",
       "       [33.4957334 , 22.13988896],\n",
       "       [35.79970879, 20.96018893],\n",
       "       [44.89256233, 17.99842367],\n",
       "       [49.86660677, 29.49396318],\n",
       "       [39.46546514, 27.27016031],\n",
       "       [38.29685132, 30.29549918],\n",
       "       [40.32533912, 20.09979861],\n",
       "       [39.91660363, 19.83777857],\n",
       "       [36.09341415, 25.45410796],\n",
       "       [37.77171067, 18.18391253],\n",
       "       [43.9934612 , 25.77130428],\n",
       "       [44.43556713, 28.04106292],\n",
       "       [38.8074813 , 21.55912396],\n",
       "       [46.08934873, 25.46765669],\n",
       "       [45.57066762, 22.9904616 ],\n",
       "       [34.59409839, 22.00096518],\n",
       "       [34.8892993 , 20.40871137],\n",
       "       [38.78247222, 26.00607019],\n",
       "       [48.01618233, 22.61405361],\n",
       "       [40.96107679, 33.72638391],\n",
       "       [39.66056114, 23.03657547]])"
      ]
     },
     "execution_count": 4,
     "metadata": {},
     "output_type": "execute_result"
    }
   ],
   "source": [
    "width = np.concatenate((apple_width, banana_width, watermelon_width))\n",
    "length = np.concatenate((apple_length, banana_length, watermelon_length))\n",
    "\n",
    "X_train = np.array([length, width]).T\n",
    "X_train"
   ]
  },
  {
   "cell_type": "code",
   "execution_count": 5,
   "metadata": {},
   "outputs": [
    {
     "data": {
      "text/plain": [
       "array([0, 0, 0, 0, 0, 0, 0, 0, 0, 0, 0, 0, 0, 0, 0, 0, 0, 0, 0, 0, 0, 0,\n",
       "       0, 0, 0, 0, 0, 0, 0, 0, 0, 0, 0, 0, 0, 0, 0, 0, 0, 0, 0, 0, 0, 0,\n",
       "       0, 0, 0, 0, 0, 0, 0, 0, 0, 0, 0, 0, 0, 0, 0, 0, 0, 0, 0, 0, 0, 0,\n",
       "       0, 0, 0, 0, 0, 0, 0, 0, 0, 0, 0, 0, 0, 0, 0, 0, 0, 0, 0, 0, 0, 0,\n",
       "       0, 0, 0, 0, 0, 0, 0, 0, 0, 0, 0, 0, 1, 1, 1, 1, 1, 1, 1, 1, 1, 1,\n",
       "       1, 1, 1, 1, 1, 1, 1, 1, 1, 1, 1, 1, 1, 1, 1, 1, 1, 1, 1, 1, 1, 1,\n",
       "       1, 1, 1, 1, 1, 1, 1, 1, 1, 1, 1, 1, 1, 1, 1, 1, 1, 1, 1, 1, 1, 1,\n",
       "       1, 1, 1, 1, 1, 1, 1, 1, 1, 1, 1, 1, 1, 1, 1, 1, 1, 1, 1, 1, 1, 1,\n",
       "       1, 1, 1, 1, 1, 1, 1, 1, 1, 1, 1, 1, 1, 1, 1, 1, 1, 1, 1, 1, 1, 1,\n",
       "       1, 1, 2, 2, 2, 2, 2, 2, 2, 2, 2, 2, 2, 2, 2, 2, 2, 2, 2, 2, 2, 2,\n",
       "       2, 2, 2, 2, 2, 2, 2, 2, 2, 2, 2, 2, 2, 2, 2, 2, 2, 2, 2, 2, 2, 2,\n",
       "       2, 2, 2, 2, 2, 2, 2, 2, 2, 2, 2, 2, 2, 2, 2, 2, 2, 2, 2, 2, 2, 2,\n",
       "       2, 2, 2, 2, 2, 2, 2, 2, 2, 2, 2, 2, 2, 2, 2, 2, 2, 2, 2, 2, 2, 2,\n",
       "       2, 2, 2, 2, 2, 2, 2, 2, 2, 2, 2, 2, 2, 2])"
      ]
     },
     "execution_count": 5,
     "metadata": {},
     "output_type": "execute_result"
    }
   ],
   "source": [
    "Y_apples = np.zeros(n, dtype=int) \n",
    "Y_bananas = np.ones(n, dtype=int) \n",
    "Y_watermelons = np.ones(n, dtype=int) * 2\n",
    "\n",
    "Y_train = np.concatenate((Y_apples, Y_bananas, Y_watermelons))\n",
    "Y_train"
   ]
  },
  {
   "cell_type": "code",
   "execution_count": 6,
   "metadata": {},
   "outputs": [
    {
     "data": {
      "text/plain": [
       "np.float64(6.708203932499369)"
      ]
     },
     "execution_count": 6,
     "metadata": {},
     "output_type": "execute_result"
    }
   ],
   "source": [
    "def euclidean_distance(x1, x2):\n",
    "    return np.sqrt(np.sum((x1 - x2) ** 2))\n",
    "\n",
    "point1 = np.array([4, 5])\n",
    "point2 = np.array([10, 2])\n",
    "\n",
    "euclidean_distance(point1, point2)"
   ]
  },
  {
   "cell_type": "code",
   "execution_count": 7,
   "metadata": {},
   "outputs": [],
   "source": [
    "new_fruit = np.array([25, 20])\n",
    "\n",
    "distances = []\n",
    "for x in X_train:\n",
    "    d = euclidean_distance(new_fruit, x)\n",
    "    distances.append(d)"
   ]
  },
  {
   "cell_type": "code",
   "execution_count": 8,
   "metadata": {},
   "outputs": [
    {
     "data": {
      "image/png": "[encoded data removed]",
      "text/plain": [
       "<Figure size 640x480 with 1 Axes>"
      ]
     },
     "metadata": {},
     "output_type": "display_data"
    }
   ],
   "source": [
    "plt.scatter(apple_length, apple_width, c='red', marker='.')\n",
    "plt.scatter(banana_length, banana_width, c='yellow', marker='.')\n",
    "plt.scatter(watermelon_length, watermelon_width, c='green', marker='.')\n",
    "plt.scatter(new_fruit[0], new_fruit[1], c='black', marker='o')\n",
    "plt.title('apple, banana and watermelon')\n",
    "plt.xlabel('length')\n",
    "plt.ylabel('width')\n",
    "plt.show()"
   ]
  },
  {
   "cell_type": "code",
   "execution_count": 9,
   "metadata": {},
   "outputs": [
    {
     "data": {
      "text/plain": [
       "array([ 5.10705852,  6.4883307 ,  8.2815478 ,  8.76108502,  9.16875514,\n",
       "        9.22969716,  9.30389301,  9.80054007,  9.89774144, 10.75600514,\n",
       "       10.84230938, 10.92973184, 11.03389512, 11.06951768, 11.165147  ,\n",
       "       11.18168602, 11.23042261, 11.3122824 , 12.11016783, 12.36167995,\n",
       "       12.39823121, 12.51912898, 12.90018478, 12.97608522, 13.05697065,\n",
       "       13.06911577, 13.17624751, 13.24567906, 13.30071032, 13.40730035,\n",
       "       13.4174695 , 13.49370056, 13.53123536, 13.53852133, 13.56428363,\n",
       "       13.87169534, 13.87697156, 13.89522967, 14.1573293 , 14.20639752,\n",
       "       14.24727348, 14.2962831 , 14.31011074, 14.57895399, 14.87079325,\n",
       "       14.8962954 , 14.9174857 , 14.97173482, 15.0151101 , 15.03427483,\n",
       "       15.03721989, 15.06772702, 15.14571341, 15.28376741, 15.30177462,\n",
       "       15.31536979, 15.32566406, 15.45038316, 15.54846532, 15.55597967,\n",
       "       15.5620571 , 15.57465613, 15.59246819, 15.63603536, 15.73709575,\n",
       "       15.86579326, 15.91611224, 15.95615722, 15.97256199, 15.98273375,\n",
       "       16.04440455, 16.10748551, 16.14034511, 16.1896545 , 16.23580707,\n",
       "       16.24462098, 16.25131856, 16.26993035, 16.30247315, 16.31573761,\n",
       "       16.33551058, 16.37104524, 16.37461658, 16.37867525, 16.41724523,\n",
       "       16.44050785, 16.44683415, 16.47308625, 16.53080888, 16.64151711,\n",
       "       16.66593897, 16.6916787 , 16.75977712, 16.78271217, 16.78419636,\n",
       "       16.79257328, 16.8167642 , 16.84791754, 16.84918691, 16.85871069,\n",
       "       16.86696283, 16.92310047, 16.99671969, 17.03231195, 17.03671167,\n",
       "       17.0370883 , 17.05792243, 17.13646418, 17.13953275, 17.15579431,\n",
       "       17.16572853, 17.17933178, 17.18465217, 17.20168647, 17.20820117,\n",
       "       17.22833258, 17.23520069, 17.25993867, 17.2697816 , 17.28633251,\n",
       "       17.35623042, 17.3756093 , 17.43914172, 17.45075561, 17.48065762,\n",
       "       17.50202429, 17.53839666, 17.55107625, 17.5744141 , 17.6373421 ,\n",
       "       17.6381713 , 17.63845961, 17.68319771, 17.69033023, 17.78756042,\n",
       "       17.80385988, 17.80444353, 17.8567843 , 17.96870678, 18.01035839,\n",
       "       18.02626711, 18.02954922, 18.1033223 , 18.17219218, 18.28728764,\n",
       "       18.35824444, 18.37352169, 18.41247017, 18.46314991, 18.51127944,\n",
       "       18.51528422, 18.61390657, 18.65196304, 18.74015757, 18.7519765 ,\n",
       "       18.76513961, 18.82303078, 18.83586398, 18.86251798, 18.8758975 ,\n",
       "       18.92001346, 19.0252611 , 19.04720685, 19.09133921, 19.13804522,\n",
       "       19.1979754 , 19.44359597, 19.50136271, 19.54661444, 19.85093251,\n",
       "       19.95620949, 19.99300737, 20.03807027, 20.09241182, 20.15500749,\n",
       "       20.19810147, 20.34025522, 20.36489317, 20.37918054, 20.4000338 ,\n",
       "       20.41076497, 20.44838953, 20.44869697, 20.53617739, 20.55266815,\n",
       "       20.58634249, 20.60244294, 20.62419929, 20.6808835 , 20.74180182,\n",
       "       20.7852422 , 20.78690037, 20.81684164, 20.82049143, 20.85716099,\n",
       "       20.92670515, 21.03330603, 21.05159347, 21.07072727, 21.10708201,\n",
       "       21.10737733, 21.18492279, 21.18884446, 21.19422523, 21.32863227,\n",
       "       21.50951922, 21.52877489, 21.53332232, 21.60692897, 21.61421569,\n",
       "       21.62482004, 21.63121372, 21.63443464, 21.65405415, 21.71887548,\n",
       "       21.7423514 , 21.7574268 , 21.77069222, 21.78659908, 21.82997558,\n",
       "       21.84368854, 21.84410863, 21.85783925, 21.89327734, 21.94102689,\n",
       "       21.97271564, 21.97339908, 21.9811333 , 22.04823111, 22.05679986,\n",
       "       22.05980729, 22.08435429, 22.11850419, 22.11996046, 22.21645566,\n",
       "       22.24466017, 22.26646998, 22.27704719, 22.28649174, 22.29044529,\n",
       "       22.33703561, 22.37962243, 22.39472297, 22.40741049, 22.40905418,\n",
       "       22.45378018, 22.45714124, 22.46155011, 22.46238577, 22.46957512,\n",
       "       22.47719886, 22.50486122, 22.50919066, 22.51229796, 22.52892205,\n",
       "       22.54509591, 22.56029943, 22.57271324, 22.57544341, 22.58220935,\n",
       "       22.58701268, 22.59514041, 22.67631534, 22.68158243, 22.68535106,\n",
       "       22.68557861, 22.79716496, 22.80720488, 22.80881302, 22.82303726,\n",
       "       22.86493294, 22.88540848, 22.91798655, 22.99167502, 23.04417629,\n",
       "       23.08594195, 23.119328  , 23.16415173, 23.20772527, 23.26953952,\n",
       "       23.28790944, 23.32446314, 23.34118778, 23.39545483, 23.41706662,\n",
       "       23.46565474, 23.54893063, 23.58194429, 23.61652212, 23.63462309,\n",
       "       23.67131689, 23.67977778, 23.70981772, 23.75265338, 23.7683645 ,\n",
       "       24.07048118, 24.08243361, 24.72447554, 26.61735278, 27.7581416 ])"
      ]
     },
     "execution_count": 9,
     "metadata": {},
     "output_type": "execute_result"
    }
   ],
   "source": [
    "k = 5\n",
    "np.sort(distances)"
   ]
  },
  {
   "cell_type": "code",
   "execution_count": 10,
   "metadata": {},
   "outputs": [
    {
     "data": {
      "text/plain": [
       "array([213, 215, 256, 279, 259, 241, 202, 294, 295, 201, 280, 228, 264,\n",
       "       271, 262, 230, 265, 254, 219, 287, 260, 237, 288, 222, 275, 223,\n",
       "       224, 200, 214, 156, 220, 218, 244, 206, 211, 207, 229, 291, 134,\n",
       "       252, 273, 167, 170, 236, 239, 267, 286, 299, 149, 296, 124, 234,\n",
       "       139, 147, 233, 245, 285, 205, 125, 107, 135, 109, 160, 158, 138,\n",
       "       148, 142, 120, 210, 141, 263, 131, 144, 283, 129, 164, 185, 146,\n",
       "       133, 145, 198, 132, 143, 169, 195, 232, 231, 276, 111, 100, 151,\n",
       "       150, 193, 104, 152, 118, 284, 162, 126, 179, 114, 110, 192, 106,\n",
       "       153, 159, 199, 163, 123, 196, 103, 178, 243, 278, 197, 235, 177,\n",
       "       168, 155, 105, 247, 203, 101, 208, 176, 184, 274, 187, 181, 130,\n",
       "       116, 183, 172, 190, 182, 189, 251, 113, 108, 117, 225, 119, 194,\n",
       "       140, 204, 128, 188, 122, 191, 253, 166, 173, 272, 171, 115, 175,\n",
       "       121, 174, 240, 136, 165, 112, 157, 180, 127, 257, 248, 221, 154,\n",
       "       289, 227, 281, 212, 238,  40, 249,  70, 102,  72, 226,  71,  46,\n",
       "        23,  19, 246,  88, 137, 186, 269,  89, 242, 293,  26,  24,  60,\n",
       "         6, 290, 298,  33,  25,  47,  84, 161,  18,  30,  53,   9,  28,\n",
       "         7, 268,  16,  97,  35,  12,  93,  36,  62,  32, 292, 277,  49,\n",
       "        41,  73,  31, 258, 270,  15,  99,   5,  52,  66,   8,  67,   3,\n",
       "        78,  45,  58,  81,  42,  87,   2,  48,  59,  50, 266,  17,  64,\n",
       "        85,  37,  74,  95,  11,  21,  96,  57,  44,  38,   0,  27, 250,\n",
       "        10,  39,  13,  63,  79,  61,  54,  14, 255, 216,  43,  65,  98,\n",
       "        77,  91,   4,  90, 297,  94,  22,  55,  86,  56,  29,  76,  69,\n",
       "        51,  80,  34,  20,  92,   1,  75,  82,  83, 209,  68, 217, 282,\n",
       "       261])"
      ]
     },
     "execution_count": 10,
     "metadata": {},
     "output_type": "execute_result"
    }
   ],
   "source": [
    "np.argsort(distances)"
   ]
  },
  {
   "cell_type": "code",
   "execution_count": 11,
   "metadata": {},
   "outputs": [
    {
     "data": {
      "text/plain": [
       "array([213, 215, 256, 279, 259])"
      ]
     },
     "execution_count": 11,
     "metadata": {},
     "output_type": "execute_result"
    }
   ],
   "source": [
    "nearest_neighbors = np.argsort(distances)[0:k]\n",
    "nearest_neighbors"
   ]
  },
  {
   "cell_type": "code",
   "execution_count": 12,
   "metadata": {},
   "outputs": [
    {
     "data": {
      "text/plain": [
       "array([2, 2, 2, 2, 2])"
      ]
     },
     "execution_count": 12,
     "metadata": {},
     "output_type": "execute_result"
    }
   ],
   "source": [
    "Y_train[nearest_neighbors]"
   ]
  },
  {
   "cell_type": "code",
   "execution_count": 13,
   "metadata": {},
   "outputs": [
    {
     "data": {
      "text/plain": [
       "array([0, 0, 5])"
      ]
     },
     "execution_count": 13,
     "metadata": {},
     "output_type": "execute_result"
    }
   ],
   "source": [
    "result = np.bincount(Y_train[nearest_neighbors])\n",
    "result"
   ]
  },
  {
   "cell_type": "code",
   "execution_count": 14,
   "metadata": {},
   "outputs": [
    {
     "name": "stdout",
     "output_type": "stream",
     "text": [
      "🍈\n"
     ]
    }
   ],
   "source": [
    "if np.argmax(result) == 0:\n",
    "    print('🍎')\n",
    "elif np.argmax(result) == 1:\n",
    "    print('🍌')\n",
    "else:\n",
    "    print('🍈')"
   ]
  }
 ],
 "metadata": {
  "kernelspec": {
   "display_name": "Python 3",
   "language": "python",
   "name": "python3"
  },
  "language_info": {
   "codemirror_mode": {
    "name": "ipython",
    "version": 3
   },
   "file_extension": ".py",
   "mimetype": "text/x-python",
   "name": "python",
   "nbconvert_exporter": "python",
   "pygments_lexer": "ipython3",
   "version": "3.13.0"
  }
 },
 "nbformat": 4,
 "nbformat_minor": 2
}
